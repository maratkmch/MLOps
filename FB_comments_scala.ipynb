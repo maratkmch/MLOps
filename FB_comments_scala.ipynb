{
 "cells": [
  {
   "cell_type": "code",
   "execution_count": 1,
   "metadata": {},
   "outputs": [
    {
     "name": "stderr",
     "output_type": "stream",
     "text": [
      "Downloading https://repo1.maven.org/maven2/org/scalanlp/breeze_2.13/2.0.1-RC1/breeze_2.13-2.0.1-RC1.pom\n",
      "Downloaded https://repo1.maven.org/maven2/org/scalanlp/breeze_2.13/2.0.1-RC1/breeze_2.13-2.0.1-RC1.pom\n",
      "Downloading https://repo1.maven.org/maven2/net/sf/opencsv/opencsv/2.3/opencsv-2.3.pom\n",
      "Downloading https://repo1.maven.org/maven2/org/scalanlp/breeze-macros_2.13/2.0.1-RC1/breeze-macros_2.13-2.0.1-RC1.pom\n",
      "Downloading https://repo1.maven.org/maven2/org/apache/commons/commons-math3/3.2/commons-math3-3.2.pom\n",
      "Downloading https://repo1.maven.org/maven2/dev/ludovic/netlib/arpack/2.2.1/arpack-2.2.1.pom\n",
      "Downloading https://repo1.maven.org/maven2/dev/ludovic/netlib/blas/2.2.1/blas-2.2.1.pom\n",
      "Downloading https://repo1.maven.org/maven2/org/slf4j/slf4j-api/1.7.5/slf4j-api-1.7.5.pom\n",
      "Downloaded https://repo1.maven.org/maven2/net/sf/opencsv/opencsv/2.3/opencsv-2.3.pom\n",
      "Downloading https://repo1.maven.org/maven2/com/github/wendykierp/JTransforms/3.1/JTransforms-3.1.pom\n",
      "Downloaded https://repo1.maven.org/maven2/org/scalanlp/breeze-macros_2.13/2.0.1-RC1/breeze-macros_2.13-2.0.1-RC1.pom\n",
      "Downloading https://repo1.maven.org/maven2/org/typelevel/spire_2.13/0.17.0/spire_2.13-0.17.0.pom\n",
      "Downloaded https://repo1.maven.org/maven2/com/github/wendykierp/JTransforms/3.1/JTransforms-3.1.pom\n",
      "Downloaded https://repo1.maven.org/maven2/dev/ludovic/netlib/arpack/2.2.1/arpack-2.2.1.pom\n",
      "Downloaded https://repo1.maven.org/maven2/org/slf4j/slf4j-api/1.7.5/slf4j-api-1.7.5.pom\n",
      "Downloading https://repo1.maven.org/maven2/dev/ludovic/netlib/lapack/2.2.1/lapack-2.2.1.pom\n",
      "Downloaded https://repo1.maven.org/maven2/dev/ludovic/netlib/blas/2.2.1/blas-2.2.1.pom\n",
      "Downloaded https://repo1.maven.org/maven2/org/apache/commons/commons-math3/3.2/commons-math3-3.2.pom\n",
      "Downloading https://repo1.maven.org/maven2/net/sourceforge/f2j/arpack_combined_all/0.1/arpack_combined_all-0.1.pom\n",
      "Downloaded https://repo1.maven.org/maven2/org/typelevel/spire_2.13/0.17.0/spire_2.13-0.17.0.pom\n",
      "Downloaded https://repo1.maven.org/maven2/net/sourceforge/f2j/arpack_combined_all/0.1/arpack_combined_all-0.1.pom\n",
      "Downloaded https://repo1.maven.org/maven2/dev/ludovic/netlib/lapack/2.2.1/lapack-2.2.1.pom\n",
      "Downloading https://repo1.maven.org/maven2/org/apache/commons/commons-parent/28/commons-parent-28.pom\n",
      "Downloading https://repo1.maven.org/maven2/org/slf4j/slf4j-parent/1.7.5/slf4j-parent-1.7.5.pom\n",
      "Downloading https://repo1.maven.org/maven2/dev/ludovic/netlib/parent/2.2.1/parent-2.2.1.pom\n",
      "Downloaded https://repo1.maven.org/maven2/dev/ludovic/netlib/parent/2.2.1/parent-2.2.1.pom\n",
      "Downloaded https://repo1.maven.org/maven2/org/slf4j/slf4j-parent/1.7.5/slf4j-parent-1.7.5.pom\n",
      "Downloaded https://repo1.maven.org/maven2/org/apache/commons/commons-parent/28/commons-parent-28.pom\n",
      "Downloading https://repo1.maven.org/maven2/org/apache/apache/13/apache-13.pom\n",
      "Downloaded https://repo1.maven.org/maven2/org/apache/apache/13/apache-13.pom\n",
      "Downloading https://repo1.maven.org/maven2/org/typelevel/spire-platform_2.13/0.17.0/spire-platform_2.13-0.17.0.pom\n",
      "Downloading https://repo1.maven.org/maven2/org/apache/commons/commons-math3/3.5/commons-math3-3.5.pom\n",
      "Downloading https://repo1.maven.org/maven2/pl/edu/icm/JLargeArrays/1.5/JLargeArrays-1.5.pom\n",
      "Downloading https://repo1.maven.org/maven2/org/typelevel/spire-util_2.13/0.17.0/spire-util_2.13-0.17.0.pom\n",
      "Downloading https://repo1.maven.org/maven2/org/typelevel/algebra_2.13/2.0.1/algebra_2.13-2.0.1.pom\n",
      "Downloading https://repo1.maven.org/maven2/org/typelevel/spire-macros_2.13/0.17.0/spire-macros_2.13-0.17.0.pom\n",
      "Downloaded https://repo1.maven.org/maven2/org/typelevel/spire-platform_2.13/0.17.0/spire-platform_2.13-0.17.0.pom\n",
      "Downloaded https://repo1.maven.org/maven2/org/typelevel/algebra_2.13/2.0.1/algebra_2.13-2.0.1.pom\n",
      "Downloaded https://repo1.maven.org/maven2/org/typelevel/spire-util_2.13/0.17.0/spire-util_2.13-0.17.0.pom\n",
      "Downloaded https://repo1.maven.org/maven2/org/apache/commons/commons-math3/3.5/commons-math3-3.5.pom\n",
      "Downloaded https://repo1.maven.org/maven2/pl/edu/icm/JLargeArrays/1.5/JLargeArrays-1.5.pom\n",
      "Downloaded https://repo1.maven.org/maven2/org/typelevel/spire-macros_2.13/0.17.0/spire-macros_2.13-0.17.0.pom\n",
      "Downloading https://repo1.maven.org/maven2/org/apache/commons/commons-parent/34/commons-parent-34.pom\n",
      "Downloaded https://repo1.maven.org/maven2/org/apache/commons/commons-parent/34/commons-parent-34.pom\n",
      "Downloading https://repo1.maven.org/maven2/pl/edu/icm/JLargeArrays/1.5/JLargeArrays-1.5-sources.jar\n",
      "Downloading https://repo1.maven.org/maven2/net/sf/opencsv/opencsv/2.3/opencsv-2.3-sources.jar\n",
      "Downloading https://repo1.maven.org/maven2/net/sourceforge/f2j/arpack_combined_all/0.1/arpack_combined_all-0.1.jar\n",
      "Downloading https://repo1.maven.org/maven2/org/scalanlp/breeze-macros_2.13/2.0.1-RC1/breeze-macros_2.13-2.0.1-RC1-sources.jar\n",
      "Downloading https://repo1.maven.org/maven2/com/github/wendykierp/JTransforms/3.1/JTransforms-3.1.jar\n",
      "Downloading https://repo1.maven.org/maven2/org/slf4j/slf4j-api/1.7.5/slf4j-api-1.7.5.jar\n",
      "Downloaded https://repo1.maven.org/maven2/org/scalanlp/breeze-macros_2.13/2.0.1-RC1/breeze-macros_2.13-2.0.1-RC1-sources.jar\n",
      "Downloading https://repo1.maven.org/maven2/org/slf4j/slf4j-api/1.7.5/slf4j-api-1.7.5-sources.jar\n",
      "Downloaded https://repo1.maven.org/maven2/net/sf/opencsv/opencsv/2.3/opencsv-2.3-sources.jar\n",
      "Downloading https://repo1.maven.org/maven2/org/typelevel/spire-macros_2.13/0.17.0/spire-macros_2.13-0.17.0-sources.jar\n",
      "Downloaded https://repo1.maven.org/maven2/pl/edu/icm/JLargeArrays/1.5/JLargeArrays-1.5-sources.jar\n",
      "Downloading https://repo1.maven.org/maven2/org/typelevel/algebra_2.13/2.0.1/algebra_2.13-2.0.1-sources.jar\n",
      "Downloaded https://repo1.maven.org/maven2/org/typelevel/spire-macros_2.13/0.17.0/spire-macros_2.13-0.17.0-sources.jar\n",
      "Downloading https://repo1.maven.org/maven2/dev/ludovic/netlib/lapack/2.2.1/lapack-2.2.1-sources.jar\n",
      "Downloaded https://repo1.maven.org/maven2/org/slf4j/slf4j-api/1.7.5/slf4j-api-1.7.5-sources.jar\n",
      "Downloading https://repo1.maven.org/maven2/org/scalanlp/breeze_2.13/2.0.1-RC1/breeze_2.13-2.0.1-RC1-sources.jar\n",
      "Downloaded https://repo1.maven.org/maven2/org/slf4j/slf4j-api/1.7.5/slf4j-api-1.7.5.jar\n",
      "Downloaded https://repo1.maven.org/maven2/org/typelevel/algebra_2.13/2.0.1/algebra_2.13-2.0.1-sources.jar\n",
      "Downloading https://repo1.maven.org/maven2/org/typelevel/spire-platform_2.13/0.17.0/spire-platform_2.13-0.17.0.jar\n",
      "Downloading https://repo1.maven.org/maven2/dev/ludovic/netlib/arpack/2.2.1/arpack-2.2.1-sources.jar\n",
      "Downloaded https://repo1.maven.org/maven2/dev/ludovic/netlib/lapack/2.2.1/lapack-2.2.1-sources.jar\n",
      "Downloading https://repo1.maven.org/maven2/pl/edu/icm/JLargeArrays/1.5/JLargeArrays-1.5.jar\n",
      "Downloaded https://repo1.maven.org/maven2/org/typelevel/spire-platform_2.13/0.17.0/spire-platform_2.13-0.17.0.jar\n",
      "Downloading https://repo1.maven.org/maven2/org/apache/commons/commons-math3/3.5/commons-math3-3.5-sources.jar\n",
      "Downloaded https://repo1.maven.org/maven2/dev/ludovic/netlib/arpack/2.2.1/arpack-2.2.1-sources.jar\n",
      "Downloading https://repo1.maven.org/maven2/org/apache/commons/commons-math3/3.5/commons-math3-3.5.jar\n",
      "Downloaded https://repo1.maven.org/maven2/pl/edu/icm/JLargeArrays/1.5/JLargeArrays-1.5.jar\n",
      "Downloading https://repo1.maven.org/maven2/org/typelevel/spire-macros_2.13/0.17.0/spire-macros_2.13-0.17.0.jar\n",
      "Downloaded https://repo1.maven.org/maven2/org/typelevel/spire-macros_2.13/0.17.0/spire-macros_2.13-0.17.0.jar\n",
      "Downloading https://repo1.maven.org/maven2/org/scalanlp/breeze-macros_2.13/2.0.1-RC1/breeze-macros_2.13-2.0.1-RC1.jar\n",
      "Downloaded https://repo1.maven.org/maven2/net/sourceforge/f2j/arpack_combined_all/0.1/arpack_combined_all-0.1.jar\n",
      "Downloading https://repo1.maven.org/maven2/org/typelevel/spire_2.13/0.17.0/spire_2.13-0.17.0-sources.jar\n",
      "Downloaded https://repo1.maven.org/maven2/org/scalanlp/breeze_2.13/2.0.1-RC1/breeze_2.13-2.0.1-RC1-sources.jar\n",
      "Downloading https://repo1.maven.org/maven2/dev/ludovic/netlib/arpack/2.2.1/arpack-2.2.1.jar\n",
      "Downloaded https://repo1.maven.org/maven2/com/github/wendykierp/JTransforms/3.1/JTransforms-3.1.jar\n",
      "Downloading https://repo1.maven.org/maven2/dev/ludovic/netlib/blas/2.2.1/blas-2.2.1.jar\n",
      "Downloaded https://repo1.maven.org/maven2/org/scalanlp/breeze-macros_2.13/2.0.1-RC1/breeze-macros_2.13-2.0.1-RC1.jar\n",
      "Downloading https://repo1.maven.org/maven2/org/typelevel/spire-platform_2.13/0.17.0/spire-platform_2.13-0.17.0-sources.jar\n",
      "Downloaded https://repo1.maven.org/maven2/org/typelevel/spire-platform_2.13/0.17.0/spire-platform_2.13-0.17.0-sources.jar\n",
      "Downloading https://repo1.maven.org/maven2/net/sourceforge/f2j/arpack_combined_all/0.1/arpack_combined_all-0.1-sources.jar\n",
      "Downloaded https://repo1.maven.org/maven2/dev/ludovic/netlib/arpack/2.2.1/arpack-2.2.1.jar\n",
      "Downloading https://repo1.maven.org/maven2/org/typelevel/spire-util_2.13/0.17.0/spire-util_2.13-0.17.0.jar\n",
      "Downloaded https://repo1.maven.org/maven2/org/typelevel/spire_2.13/0.17.0/spire_2.13-0.17.0-sources.jar\n",
      "Downloading https://repo1.maven.org/maven2/net/sf/opencsv/opencsv/2.3/opencsv-2.3.jar\n",
      "Downloaded https://repo1.maven.org/maven2/dev/ludovic/netlib/blas/2.2.1/blas-2.2.1.jar\n",
      "Downloading https://repo1.maven.org/maven2/org/typelevel/algebra_2.13/2.0.1/algebra_2.13-2.0.1.jar\n",
      "Downloaded https://repo1.maven.org/maven2/net/sourceforge/f2j/arpack_combined_all/0.1/arpack_combined_all-0.1-sources.jar\n",
      "Downloading https://repo1.maven.org/maven2/org/typelevel/spire_2.13/0.17.0/spire_2.13-0.17.0.jar\n",
      "Downloaded https://repo1.maven.org/maven2/org/typelevel/spire-util_2.13/0.17.0/spire-util_2.13-0.17.0.jar\n",
      "Downloading https://repo1.maven.org/maven2/org/typelevel/spire-util_2.13/0.17.0/spire-util_2.13-0.17.0-sources.jar\n",
      "Downloaded https://repo1.maven.org/maven2/net/sf/opencsv/opencsv/2.3/opencsv-2.3.jar\n",
      "Downloading https://repo1.maven.org/maven2/dev/ludovic/netlib/lapack/2.2.1/lapack-2.2.1.jar\n",
      "Downloaded https://repo1.maven.org/maven2/org/typelevel/spire-util_2.13/0.17.0/spire-util_2.13-0.17.0-sources.jar\n",
      "Downloading https://repo1.maven.org/maven2/com/github/wendykierp/JTransforms/3.1/JTransforms-3.1-sources.jar\n",
      "Downloaded https://repo1.maven.org/maven2/com/github/wendykierp/JTransforms/3.1/JTransforms-3.1-sources.jar\n",
      "Downloading https://repo1.maven.org/maven2/org/scalanlp/breeze_2.13/2.0.1-RC1/breeze_2.13-2.0.1-RC1.jar\n",
      "Downloaded https://repo1.maven.org/maven2/org/apache/commons/commons-math3/3.5/commons-math3-3.5-sources.jar\n",
      "Downloading https://repo1.maven.org/maven2/dev/ludovic/netlib/blas/2.2.1/blas-2.2.1-sources.jar\n",
      "Downloaded https://repo1.maven.org/maven2/dev/ludovic/netlib/blas/2.2.1/blas-2.2.1-sources.jar\n",
      "Downloading https://repo1.maven.org/maven2/net/sourceforge/f2j/arpack_combined_all/0.1/arpack_combined_all-0.1-sources.jar.sha1\n",
      "Downloaded https://repo1.maven.org/maven2/net/sourceforge/f2j/arpack_combined_all/0.1/arpack_combined_all-0.1-sources.jar.sha1\n",
      "Downloaded https://repo1.maven.org/maven2/dev/ludovic/netlib/lapack/2.2.1/lapack-2.2.1.jar\n",
      "Downloaded https://repo1.maven.org/maven2/org/typelevel/algebra_2.13/2.0.1/algebra_2.13-2.0.1.jar\n",
      "Downloaded https://repo1.maven.org/maven2/org/scalanlp/breeze_2.13/2.0.1-RC1/breeze_2.13-2.0.1-RC1.jar\n",
      "Downloaded https://repo1.maven.org/maven2/org/apache/commons/commons-math3/3.5/commons-math3-3.5.jar\n",
      "Downloaded https://repo1.maven.org/maven2/org/typelevel/spire_2.13/0.17.0/spire_2.13-0.17.0.jar\n"
     ]
    },
    {
     "data": {
      "text/plain": [
       "\u001b[32mimport \u001b[39m\u001b[36m$ivy.$                               \u001b[39m"
      ]
     },
     "execution_count": 1,
     "metadata": {},
     "output_type": "execute_result"
    }
   ],
   "source": [
    "import $ivy.`org.scalanlp::breeze:2.0.1-RC1`"
   ]
  },
  {
   "cell_type": "code",
   "execution_count": 4,
   "metadata": {},
   "outputs": [
    {
     "data": {
      "text/plain": [
       "\u001b[32mimport \u001b[39m\u001b[36mbreeze.linalg._\n",
       "\u001b[39m\n",
       "\u001b[32mimport \u001b[39m\u001b[36mbreeze.numerics._\n",
       "\u001b[39m\n",
       "\u001b[32mimport \u001b[39m\u001b[36mbreeze.optimize._\n",
       "\u001b[39m\n",
       "\u001b[32mimport \u001b[39m\u001b[36mbreeze.stats._\n",
       "\u001b[39m\n",
       "\u001b[32mimport \u001b[39m\u001b[36mbreeze.stats.regression.leastSquares\u001b[39m"
      ]
     },
     "execution_count": 4,
     "metadata": {},
     "output_type": "execute_result"
    }
   ],
   "source": [
    "import breeze.linalg._\n",
    "import breeze.numerics._\n",
    "import breeze.optimize._\n",
    "import breeze.stats._\n",
    "import breeze.stats.regression.leastSquares"
   ]
  },
  {
   "cell_type": "code",
   "execution_count": 2,
   "metadata": {},
   "outputs": [
    {
     "name": "stderr",
     "output_type": "stream",
     "text": [
      "Downloading https://repo1.maven.org/maven2/org/plotly-scala/plotly-almond_2.13/0.7.6/plotly-almond_2.13-0.7.6.pom\n",
      "Downloaded https://repo1.maven.org/maven2/org/plotly-scala/plotly-almond_2.13/0.7.6/plotly-almond_2.13-0.7.6.pom\n",
      "Downloading https://repo1.maven.org/maven2/org/plotly-scala/plotly-render_2.13/0.7.6/plotly-render_2.13-0.7.6.pom\n",
      "Downloading https://repo1.maven.org/maven2/org/plotly-scala/plotly-core_2.13/0.7.6/plotly-core_2.13-0.7.6.pom\n",
      "Downloaded https://repo1.maven.org/maven2/org/plotly-scala/plotly-render_2.13/0.7.6/plotly-render_2.13-0.7.6.pom\n",
      "Downloaded https://repo1.maven.org/maven2/org/plotly-scala/plotly-core_2.13/0.7.6/plotly-core_2.13-0.7.6.pom\n",
      "Downloading https://repo1.maven.org/maven2/org/webjars/bower/plotly.js/1.52.2/plotly.js-1.52.2.pom\n",
      "Downloading https://repo1.maven.org/maven2/io/github/alexarchambault/data-class_2.13/0.2.2/data-class_2.13-0.2.2.pom\n",
      "Downloaded https://repo1.maven.org/maven2/org/webjars/bower/plotly.js/1.52.2/plotly.js-1.52.2.pom\n",
      "Downloaded https://repo1.maven.org/maven2/io/github/alexarchambault/data-class_2.13/0.2.2/data-class_2.13-0.2.2.pom\n",
      "Downloading https://repo1.maven.org/maven2/org/plotly-scala/plotly-core_2.13/0.7.6/plotly-core_2.13-0.7.6.jar\n",
      "Downloading https://repo1.maven.org/maven2/org/plotly-scala/plotly-almond_2.13/0.7.6/plotly-almond_2.13-0.7.6.jar\n",
      "Downloading https://repo1.maven.org/maven2/io/github/alexarchambault/data-class_2.13/0.2.2/data-class_2.13-0.2.2-sources.jar\n",
      "Downloading https://repo1.maven.org/maven2/org/webjars/bower/plotly.js/1.52.2/plotly.js-1.52.2.jar\n",
      "Downloading https://repo1.maven.org/maven2/org/plotly-scala/plotly-render_2.13/0.7.6/plotly-render_2.13-0.7.6-sources.jar\n",
      "Downloading https://repo1.maven.org/maven2/org/plotly-scala/plotly-render_2.13/0.7.6/plotly-render_2.13-0.7.6.jar\n",
      "Downloaded https://repo1.maven.org/maven2/org/plotly-scala/plotly-render_2.13/0.7.6/plotly-render_2.13-0.7.6-sources.jar\n",
      "Downloading https://repo1.maven.org/maven2/org/webjars/bower/plotly.js/1.52.2/plotly.js-1.52.2-sources.jar\n",
      "Downloaded https://repo1.maven.org/maven2/org/webjars/bower/plotly.js/1.52.2/plotly.js-1.52.2-sources.jar\n",
      "Downloading https://repo1.maven.org/maven2/org/plotly-scala/plotly-almond_2.13/0.7.6/plotly-almond_2.13-0.7.6-sources.jar\n",
      "Downloaded https://repo1.maven.org/maven2/io/github/alexarchambault/data-class_2.13/0.2.2/data-class_2.13-0.2.2-sources.jar\n",
      "Downloading https://repo1.maven.org/maven2/io/github/alexarchambault/data-class_2.13/0.2.2/data-class_2.13-0.2.2.jar\n",
      "Downloaded https://repo1.maven.org/maven2/org/plotly-scala/plotly-almond_2.13/0.7.6/plotly-almond_2.13-0.7.6.jar\n",
      "Downloading https://repo1.maven.org/maven2/org/plotly-scala/plotly-core_2.13/0.7.6/plotly-core_2.13-0.7.6-sources.jar\n",
      "Downloaded https://repo1.maven.org/maven2/org/plotly-scala/plotly-almond_2.13/0.7.6/plotly-almond_2.13-0.7.6-sources.jar\n",
      "Downloaded https://repo1.maven.org/maven2/org/plotly-scala/plotly-core_2.13/0.7.6/plotly-core_2.13-0.7.6.jar\n",
      "Downloaded https://repo1.maven.org/maven2/org/plotly-scala/plotly-core_2.13/0.7.6/plotly-core_2.13-0.7.6-sources.jar\n",
      "Downloaded https://repo1.maven.org/maven2/io/github/alexarchambault/data-class_2.13/0.2.2/data-class_2.13-0.2.2.jar\n",
      "Downloaded https://repo1.maven.org/maven2/org/plotly-scala/plotly-render_2.13/0.7.6/plotly-render_2.13-0.7.6.jar\n",
      "Downloaded https://repo1.maven.org/maven2/org/webjars/bower/plotly.js/1.52.2/plotly.js-1.52.2.jar\n"
     ]
    },
    {
     "data": {
      "text/plain": [
       "\u001b[32mimport \u001b[39m\u001b[36m$ivy.$                                      \n",
       "\u001b[39m\n",
       "\u001b[32mimport \u001b[39m\u001b[36mplotly._, plotly.element._, plotly.layout._, plotly.Almond._\u001b[39m"
      ]
     },
     "execution_count": 2,
     "metadata": {},
     "output_type": "execute_result"
    }
   ],
   "source": [
    "import $ivy.`org.plotly-scala::plotly-almond:0.7.6`\n",
    "import plotly._, plotly.element._, plotly.layout._, plotly.Almond._"
   ]
  },
  {
   "cell_type": "code",
   "execution_count": 3,
   "metadata": {},
   "outputs": [],
   "source": [
    "repl.pprinter() = repl.pprinter().copy(defaultHeight = 3)"
   ]
  },
  {
   "cell_type": "markdown",
   "metadata": {},
   "source": [
    "Часть 1. Скачайте данные"
   ]
  },
  {
   "cell_type": "code",
   "execution_count": 5,
   "metadata": {},
   "outputs": [
    {
     "data": {
      "text/plain": [
       "\u001b[36mdataFile\u001b[39m: \u001b[32mio\u001b[39m.\u001b[32mBufferedSource\u001b[39m = \u001b[32mempty iterator\u001b[39m\n",
       "\u001b[36mdataArray\u001b[39m: \u001b[32mArray\u001b[39m[\u001b[32mArray\u001b[39m[\u001b[32mDouble\u001b[39m]] = \u001b[33mArray\u001b[39m(\n",
       "  \u001b[33mArray\u001b[39m(\n",
       "...\n",
       "\u001b[36mdataMatrix\u001b[39m: \u001b[32mDenseMatrix\u001b[39m[\u001b[32mDouble\u001b[39m] = 634995.0  0.0  463.0  1.0  0.0   0.0   0.0   0.0   0.0    65.0  ... (28 total)\n",
       "634995.0  0.0  463.0  1.0  0.0   0.0   0.0   0.0   0.0    10.0  ...\n",
       "..."
      ]
     },
     "execution_count": 5,
     "metadata": {},
     "output_type": "execute_result"
    }
   ],
   "source": [
    "val dataFile = io.Source.fromFile(\"Dataset.csv\")\n",
    "\n",
    "val dataArray = dataFile.getLines.drop(1)\n",
    "                  .map(_.split(\",\").map(_.trim))\n",
    "                  .map { line => line.map { elem => \n",
    "                    elem match {\n",
    "                      case \"\" => 0.0\n",
    "                      case x => x.toDouble\n",
    "                    }\n",
    "                  }\n",
    "                }.toArray\n",
    "\n",
    "val dataMatrix = DenseMatrix(dataArray: _*)"
   ]
  },
  {
   "cell_type": "markdown",
   "metadata": {},
   "source": [
    "Часть 2. Предобработка датасета"
   ]
  },
  {
   "cell_type": "code",
   "execution_count": 6,
   "metadata": {},
   "outputs": [
    {
     "data": {
      "text/plain": [
       "\u001b[36mdata_likes\u001b[39m: \u001b[32mDenseVector\u001b[39m[\u001b[32mDouble\u001b[39m] = DenseVector(634995.0, 634995.0, 634995.0, 634995.0, 634995.0, 634995.0, 634995.0, 634995.0, 634995.0, 634995.0, 634995.0, 634995.0, 634995.0, 634995.0, 634995.0...\n",
       "\u001b[36mdata_Checkins\u001b[39m: \u001b[32mDenseVector\u001b[39m[\u001b[32mDouble\u001b[39m] = DenseVector(0.0, 0.0, 0.0, 0.0, 0.0, 0.0, 0.0, 0.0, 0.0, 0.0, 0.0, 0.0, 0.0, 0.0, 0.0, 0.0, 0.0, 0.0, 0.0, 0.0, 0.0, 0.0, 0.0, 0.0, 0.0, 0.0, 0.0, 0.0, 0.0, 0.0...\n",
       "\u001b[36mdata_Returns\u001b[39m: \u001b[32mDenseVector\u001b[39m[\u001b[32mDouble\u001b[39m] = DenseVector(463.0, 463.0, 463.0, 463.0, 463.0, 463.0, 463.0, 463.0, 463.0, 463.0, 463.0, 463.0, 463.0, 463.0, 463.0, 463.0, 463.0, 463.0, 463.0, 463.0, 463.0, 4...\n",
       "\u001b[36mdata_Category\u001b[39m: \u001b[32mDenseVector\u001b[39m[\u001b[32mDouble\u001b[39m] = DenseVector(1.0, 1.0, 1.0, 1.0, 1.0, 1.0, 1.0, 1.0, 1.0, 1.0, 1.0, 1.0, 1.0, 1.0, 1.0, 1.0, 1.0, 1.0, 1.0, 1.0, 1.0, 1.0, 1.0, 1.0, 1.0, 1.0, 1.0, 1.0, 1.0, 1.0...\n",
       "\u001b[36mdata_commBase\u001b[39m: \u001b[32mDenseVector\u001b[39m[\u001b[32mDouble\u001b[39m] = DenseVector(0.0, 0.0, 0.0, 7.0, 1.0, 0.0, 0.0, 1.0, 0.0, 0.0, 0.0, 1.0, 0.0, 1.0, 0.0, 3.0, 3.0, 0.0, 1.0, 0.0, 0.0, 77.0, 6.0, 0.0, 0.0, 0.0, 4.0, 29.0, 3.0, 2...\n",
       "\u001b[36mdata_comm24\u001b[39m: \u001b[32mDenseVector\u001b[39m[\u001b[32mDouble\u001b[39m] = DenseVector(0.0, 0.0, 0.0, 0.0, 0.0, 0.0, 0.0, 0.0, 0.0, 0.0, 0.0, 0.0, 0.0, 1.0, 0.0, 0.0, 0.0, 0.0, 0.0, 0.0, 0.0, 46.0, 0.0, 0.0, 0.0, 0.0, 4.0, 3.0, 1.0, 2....\n",
       "\u001b[36mdata_comm48\u001b[39m: \u001b[32mDenseVector\u001b[39m[\u001b[32mDouble\u001b[39m] = DenseVector(0.0, 0.0, 0.0, 3.0, 0.0, 0.0, 0.0, 1.0, 0.0, 0.0, 0.0, 0.0, 0.0, 0.0, 0.0, 3.0, 3.0, 0.0, 1.0, 0.0, 0.0, 31.0, 1.0, 0.0, 0.0, 0.0, 0.0, 11.0, 2.0, 0...\n",
       "\u001b[36mdata_comm24_1\u001b[39m: \u001b[32mDenseVector\u001b[39m[\u001b[32mDouble\u001b[39m] = DenseVector(0.0, 0.0, 0.0, 7.0, 1.0, 0.0, 0.0, 1.0, 0.0, 0.0, 0.0, 1.0, 0.0, 1.0, 0.0, 3.0, 2.0, 0.0, 1.0, 0.0, 0.0, 74.0, 6.0, 0.0, 0.0, 0.0, 4.0, 25.0, 3.0, 2...\n",
       "\u001b[36mdata_diff2448\u001b[39m: \u001b[32mDenseVector\u001b[39m[\u001b[32mDouble\u001b[39m] = DenseVector(0.0, 0.0, 0.0, -3.0, 0.0, 0.0, 0.0, -1.0, 0.0, 0.0, 0.0, 0.0, 0.0, 1.0, 0.0, -3.0, -3.0, 0.0, -1.0, 0.0, 0.0, 15.0, -1.0, 0.0, 0.0, 0.0, 4.0, -8.0, ...\n",
       "\u001b[36mdata_baseTime\u001b[39m: \u001b[32mDenseVector\u001b[39m[\u001b[32mDouble\u001b[39m] = DenseVector(65.0, 10.0, 14.0, 62.0, 58.0, 60.0, 68.0, 32.0, 35.0, 48.0, 52.0, 69.0, 3.0, 37.0, 23.0, 40.0, 54.0, 29.0, 36.0, 11.0, 62.0, 31.0, 54.0, 69.0, 71.0,...\n",
       "\u001b[36mdata_length\u001b[39m: \u001b[32mDenseVector\u001b[39m[\u001b[32mDouble\u001b[39m] = DenseVector(166.0, 132.0, 133.0, 131.0, 142.0, 166.0, 145.0, 157.0, 177.0, 126.0, 188.0, 172.0, 157.0, 126.0, 103.0, 158.0, 151.0, 133.0, 137.0, 106.0, 149.0, 1...\n",
       "\u001b[36mdata_shares\u001b[39m: \u001b[32mDenseVector\u001b[39m[\u001b[32mDouble\u001b[39m] = DenseVector(2.0, 1.0, 2.0, 1.0, 5.0, 1.0, 2.0, 2.0, 5.0, 1.0, 1.0, 4.0, 4.0, 1.0, 1.0, 4.0, 0.0, 1.0, 0.0, 0.0, 1.0, 19.0, 1.0, 4.0, 0.0, 0.0, 0.0, 0.0, 0.0, 0....\n",
       "\u001b[36mdata_hrs\u001b[39m: \u001b[32mDenseVector\u001b[39m[\u001b[32mDouble\u001b[39m] = DenseVector(24.0, 24.0, 24.0, 24.0, 24.0, 24.0, 24.0, 24.0, 24.0, 24.0, 24.0, 24.0, 24.0, 24.0, 24.0, 24.0, 24.0, 24.0, 24.0, 24.0, 24.0, 24.0, 24.0, 24.0, 24.0...\n",
       "\u001b[36mdata_sun_pub\u001b[39m: \u001b[32mDenseVector\u001b[39m[\u001b[32mDouble\u001b[39m] = DenseVector(0.0, 0.0, 0.0, 0.0, 0.0, 0.0, 0.0, 0.0, 0.0, 0.0, 0.0, 0.0, 0.0, 0.0, 0.0, 0.0, 0.0, 0.0, 0.0, 0.0, 0.0, 0.0, 0.0, 0.0, 0.0, 0.0, 0.0, 0.0, 0.0, 0.0...\n",
       "\u001b[36mdata_mon_pub\u001b[39m: \u001b[32mDenseVector\u001b[39m[\u001b[32mDouble\u001b[39m] = DenseVector(0.0, 0.0, 0.0, 0.0, 0.0, 0.0, 0.0, 0.0, 0.0, 0.0, 0.0, 0.0, 0.0, 0.0, 0.0, 0.0, 0.0, 0.0, 0.0, 0.0, 0.0, 0.0, 0.0, 0.0, 0.0, 0.0, 0.0, 0.0, 0.0, 0.0...\n",
       "\u001b[36mdata_tue_pub\u001b[39m: \u001b[32mDenseVector\u001b[39m[\u001b[32mDouble\u001b[39m] = DenseVector(0.0, 0.0, 0.0, 0.0, 0.0, 1.0, 0.0, 0.0, 0.0, 0.0, 0.0, 0.0, 1.0, 0.0, 0.0, 1.0, 0.0, 0.0, 0.0, 0.0, 0.0, 0.0, 0.0, 0.0, 0.0, 0.0, 0.0, 0.0, 0.0, 0.0...\n",
       "\u001b[36mdata_wed_pub\u001b[39m: \u001b[32mDenseVector\u001b[39m[\u001b[32mDouble\u001b[39m] = DenseVector(1.0, 0.0, 0.0, 0.0, 0.0, 0.0, 1.0, 0.0, 0.0, 0.0, 0.0, 0.0, 0.0, 1.0, 0.0, 0.0, 1.0, 1.0, 0.0, 0.0, 0.0, 0.0, 1.0, 1.0, 0.0, 0.0, 0.0, 0.0, 0.0, 0.0...\n",
       "\u001b[36mdata_thu_pub\u001b[39m: \u001b[32mDenseVector\u001b[39m[\u001b[32mDouble\u001b[39m] = DenseVector(0.0, 1.0, 0.0, 0.0, 0.0, 0.0, 0.0, 1.0, 0.0, 0.0, 0.0, 0.0, 0.0, 0.0, 0.0, 0.0, 0.0, 0.0, 1.0, 0.0, 0.0, 0.0, 0.0, 0.0, 1.0, 1.0, 0.0, 0.0, 0.0, 0.0...\n",
       "\u001b[36mdata_fri_pub\u001b[39m: \u001b[32mDenseVector\u001b[39m[\u001b[32mDouble\u001b[39m] = DenseVector(0.0, 0.0, 1.0, 1.0, 0.0, 0.0, 0.0, 0.0, 1.0, 1.0, 1.0, 0.0, 0.0, 0.0, 0.0, 0.0, 0.0, 0.0, 0.0, 1.0, 0.0, 0.0, 0.0, 0.0, 0.0, 0.0, 1.0, 0.0, 0.0, 0.0...\n",
       "\u001b[36mdata_sat_pub\u001b[39m: \u001b[32mDenseVector\u001b[39m[\u001b[32mDouble\u001b[39m] = DenseVector(0.0, 0.0, 0.0, 0.0, 0.0, 0.0, 0.0, 0.0, 0.0, 0.0, 0.0, 0.0, 0.0, 0.0, 0.0, 0.0, 0.0, 0.0, 0.0, 0.0, 0.0, 0.0, 0.0, 0.0, 0.0, 0.0, 0.0, 0.0, 0.0, 0.0...\n",
       "\u001b[36mdata_sun_base\u001b[39m: \u001b[32mDenseVector\u001b[39m[\u001b[32mDouble\u001b[39m] = DenseVector(0.0, 0.0, 0.0, 0.0, 0.0, 0.0, 0.0, 0.0, 0.0, 1.0, 1.0, 0.0, 0.0, 0.0, 0.0, 0.0, 0.0, 0.0, 0.0, 0.0, 0.0, 0.0, 0.0, 0.0, 1.0, 1.0, 0.0, 0.0, 0.0, 0.0...\n",
       "\u001b[36mdata_mon_base\u001b[39m: \u001b[32mDenseVector\u001b[39m[\u001b[32mDouble\u001b[39m] = DenseVector(0.0, 0.0, 0.0, 1.0, 0.0, 0.0, 0.0, 0.0, 0.0, 0.0, 0.0, 0.0, 0.0, 0.0, 0.0, 0.0, 0.0, 0.0, 0.0, 0.0, 0.0, 0.0, 0.0, 0.0, 0.0, 0.0, 0.0, 0.0, 0.0, 0.0...\n",
       "\u001b[36mdata_tue_base\u001b[39m: \u001b[32mDenseVector\u001b[39m[\u001b[32mDouble\u001b[39m] = DenseVector(0.0, 0.0, 0.0, 0.0, 0.0, 0.0, 0.0, 0.0, 0.0, 0.0, 0.0, 0.0, 1.0, 0.0, 1.0, 0.0, 0.0, 0.0, 0.0, 0.0, 0.0, 0.0, 0.0, 0.0, 0.0, 0.0, 0.0, 0.0, 0.0, 0.0...\n",
       "\u001b[36mdata_wed_base\u001b[39m: \u001b[32mDenseVector\u001b[39m[\u001b[32mDouble\u001b[39m] = DenseVector(0.0, 0.0, 0.0, 0.0, 1.0, 0.0, 0.0, 0.0, 0.0, 0.0, 0.0, 0.0, 0.0, 0.0, 0.0, 0.0, 0.0, 0.0, 0.0, 0.0, 0.0, 1.0, 0.0, 0.0, 0.0, 0.0, 0.0, 1.0, 1.0, 0.0...\n",
       "\u001b[36mdata_thu_base\u001b[39m: \u001b[32mDenseVector\u001b[39m[\u001b[32mDouble\u001b[39m] = DenseVector(0.0, 0.0, 0.0, 0.0, 0.0, 0.0, 0.0, 0.0, 0.0, 0.0, 0.0, 1.0, 0.0, 0.0, 0.0, 1.0, 0.0, 0.0, 0.0, 0.0, 1.0, 0.0, 0.0, 0.0, 0.0, 0.0, 0.0, 0.0, 0.0, 0.0...\n",
       "\u001b[36mdata_fri_base\u001b[39m: \u001b[32mDenseVector\u001b[39m[\u001b[32mDouble\u001b[39m] = DenseVector(0.0, 1.0, 0.0, 0.0, 0.0, 1.0, 0.0, 0.0, 0.0, 0.0, 0.0, 0.0, 0.0, 1.0, 0.0, 0.0, 1.0, 1.0, 0.0, 0.0, 0.0, 0.0, 1.0, 0.0, 0.0, 0.0, 0.0, 0.0, 0.0, 1.0...\n",
       "\u001b[36mdata_sat_base\u001b[39m: \u001b[32mDenseVector\u001b[39m[\u001b[32mDouble\u001b[39m] = DenseVector(1.0, 0.0, 1.0, 0.0, 0.0, 0.0, 1.0, 1.0, 1.0, 0.0, 0.0, 0.0, 0.0, 0.0, 0.0, 0.0, 0.0, 0.0, 1.0, 1.0, 0.0, 0.0, 0.0, 1.0, 0.0, 0.0, 1.0, 0.0, 0.0, 0.0...\n",
       "\u001b[36mdata_output\u001b[39m: \u001b[32mDenseVector\u001b[39m[\u001b[32mDouble\u001b[39m] = DenseVector(0.0, 0.0, 0.0, 0.0, 0.0, 0.0, 0.0, 0.0, 0.0, 0.0, 0.0, 0.0, 3.0, 0.0, 0.0, 0.0, 0.0, 0.0, 0.0, 0.0, 0.0, 5.0, 0.0, 0.0, 0.0, 0.0, 2.0, 0.0, 0.0, 0.0..."
      ]
     },
     "execution_count": 6,
     "metadata": {},
     "output_type": "execute_result"
    }
   ],
   "source": [
    "val data_likes = dataMatrix(::,0)\n",
    "val data_Checkins = dataMatrix(::,1)\n",
    "val data_Returns = dataMatrix(::,2)\n",
    "val data_Category = dataMatrix(::,3)\n",
    "val data_commBase = dataMatrix(::,4)\n",
    "val data_comm24 = dataMatrix(::,5)\n",
    "val data_comm48 = dataMatrix(::,6)\n",
    "val data_comm24_1 = dataMatrix(::,7)\n",
    "val data_diff2448 = dataMatrix(::,8)\n",
    "val data_baseTime = dataMatrix(::,9)\n",
    "val data_length = dataMatrix(::,10)\n",
    "val data_shares = dataMatrix(::,11)\n",
    "val data_hrs = dataMatrix(::,12)\n",
    "val data_sun_pub = dataMatrix(::,13)\n",
    "val data_mon_pub = dataMatrix(::,14)\n",
    "val data_tue_pub = dataMatrix(::,15)\n",
    "val data_wed_pub = dataMatrix(::,16)\n",
    "val data_thu_pub = dataMatrix(::,17)\n",
    "val data_fri_pub = dataMatrix(::,18)\n",
    "val data_sat_pub = dataMatrix(::,19)\n",
    "val data_sun_base = dataMatrix(::,20)\n",
    "val data_mon_base = dataMatrix(::,21)\n",
    "val data_tue_base = dataMatrix(::,22)\n",
    "val data_wed_base = dataMatrix(::,23)\n",
    "val data_thu_base = dataMatrix(::,24)\n",
    "val data_fri_base = dataMatrix(::,25)\n",
    "val data_sat_base = dataMatrix(::,26)\n",
    "val data_output = dataMatrix(::,27)"
   ]
  },
  {
   "cell_type": "markdown",
   "metadata": {},
   "source": [
    "Нормализация признаков"
   ]
  },
  {
   "cell_type": "code",
   "execution_count": 7,
   "metadata": {},
   "outputs": [
    {
     "data": {
      "text/plain": [
       "defined \u001b[32mfunction\u001b[39m \u001b[36mrescaled\u001b[39m"
      ]
     },
     "execution_count": 7,
     "metadata": {},
     "output_type": "execute_result"
    }
   ],
   "source": [
    "def rescaled(v:DenseVector[Double]) = (v - mean(v)) / stddev(v)"
   ]
  },
  {
   "cell_type": "code",
   "execution_count": 8,
   "metadata": {},
   "outputs": [
    {
     "data": {
      "text/plain": [
       "\u001b[36mdata_likes_rsc\u001b[39m: \u001b[32mDenseVector\u001b[39m[\u001b[32mDouble\u001b[39m] = DenseVector(-0.1000358947341339, -0.1000358947341339, -0.1000358947341339, -0.1000358947341339, -0.1000358947341339, -0.1000358947341339, -0.1000358947341339, -...\n",
       "\u001b[36mdata_Checkins_rsc\u001b[39m: \u001b[32mDenseVector\u001b[39m[\u001b[32mDouble\u001b[39m] = DenseVector(-0.22707190669327695, -0.22707190669327695, -0.22707190669327695, -0.22707190669327695, -0.22707190669327695, -0.22707190669327695, -0.2270719066932...\n",
       "\u001b[36mdata_Returns_rsc\u001b[39m: \u001b[32mDenseVector\u001b[39m[\u001b[32mDouble\u001b[39m] = DenseVector(-0.39967298928269207, -0.39967298928269207, -0.39967298928269207, -0.39967298928269207, -0.39967298928269207, -0.39967298928269207, -0.3996729892826...\n",
       "\u001b[36mdata_Category_rsc\u001b[39m: \u001b[32mDenseVector\u001b[39m[\u001b[32mDouble\u001b[39m] = DenseVector(-1.1644104227664624, -1.1644104227664624, -1.1644104227664624, -1.1644104227664624, -1.1644104227664624, -1.1644104227664624, -1.1644104227664624, -...\n",
       "\u001b[36mdata_commBase_rsc\u001b[39m: \u001b[32mDenseVector\u001b[39m[\u001b[32mDouble\u001b[39m] = DenseVector(-0.4067198463304823, -0.4067198463304823, -0.4067198463304823, -0.3556170805531237, -0.39941945121943107, -0.4067198463304823, -0.4067198463304823, ...\n",
       "\u001b[36mdata_comm24_rsc\u001b[39m: \u001b[32mDenseVector\u001b[39m[\u001b[32mDouble\u001b[39m] = DenseVector(-0.28767402113750706, -0.28767402113750706, -0.28767402113750706, -0.28767402113750706, -0.28767402113750706, -0.28767402113750706, -0.2876740211375...\n",
       "\u001b[36mdata_comm48_rsc\u001b[39m: \u001b[32mDenseVector\u001b[39m[\u001b[32mDouble\u001b[39m] = DenseVector(-0.2764479882667333, -0.2764479882667333, -0.2764479882667333, -0.23424119977836994, -0.2764479882667333, -0.2764479882667333, -0.2764479882667333, ...\n",
       "\u001b[36mdata_comm24_1_rsc\u001b[39m: \u001b[32mDenseVector\u001b[39m[\u001b[32mDouble\u001b[39m] = DenseVector(-0.41060714202510107, -0.41060714202510107, -0.41060714202510107, -0.35599640413841577, -0.4028056080412889, -0.41060714202510107, -0.41060714202510...\n",
       "\u001b[36mdata_diff2448_rsc\u001b[39m: \u001b[32mDenseVector\u001b[39m[\u001b[32mDouble\u001b[39m] = DenseVector(-0.026930791166082355, -0.026930791166082355, -0.026930791166082355, -0.058776919637481204, -0.026930791166082355, -0.026930791166082355, -0.0269307...\n",
       "\u001b[36mdata_baseTime_rsc\u001b[39m: \u001b[32mDenseVector\u001b[39m[\u001b[32mDouble\u001b[39m] = DenseVector(1.4188534824176682, -1.2106037870690658, -1.019370531106394, 1.2754285404456647, 1.084195284482993, 1.1798119124643287, 1.562278424389672, -0.158820...\n",
       "\u001b[36mdata_length_rsc\u001b[39m: \u001b[32mDenseVector\u001b[39m[\u001b[32mDouble\u001b[39m] = DenseVector(0.006239043443446583, -0.0841229499075094, -0.08146524422071658, -0.08678065559430223, -0.05754589303958117, 0.006239043443446583, -0.04957277597920...\n",
       "\u001b[36mdata_shares_rsc\u001b[39m: \u001b[32mDenseVector\u001b[39m[\u001b[32mDouble\u001b[39m] = DenseVector(-0.12181877013056347, -0.12287694609087249, -0.12181877013056347, -0.12287694609087249, -0.11864424224963638, -0.12287694609087249, -0.1218187701305...\n",
       "\u001b[36mdata_hrs_rsc\u001b[39m: \u001b[32mDenseVector\u001b[39m[\u001b[32mDouble\u001b[39m] = DenseVector(0.1209310126654681, 0.1209310126654681, 0.1209310126654681, 0.1209310126654681, 0.1209310126654681, 0.1209310126654681, 0.1209310126654681, 0.120931...\n",
       "\u001b[36mdata_sun_pub_rsc\u001b[39m: \u001b[32mDenseVector\u001b[39m[\u001b[32mDouble\u001b[39m] = DenseVector(-0.37336238802604077, -0.37336238802604077, -0.37336238802604077, -0.37336238802604077, -0.37336238802604077, -0.37336238802604077, -0.3733623880260...\n",
       "\u001b[36mdata_mon_pub_rsc\u001b[39m: \u001b[32mDenseVector\u001b[39m[\u001b[32mDouble\u001b[39m] = DenseVector(-0.3699152637471761, -0.3699152637471761, -0.3699152637471761, -0.3699152637471761, -0.3699152637471761, -0.3699152637471761, -0.3699152637471761, -...\n",
       "\u001b[36mdata_tue_pub_rsc\u001b[39m: \u001b[32mDenseVector\u001b[39m[\u001b[32mDouble\u001b[39m] = DenseVector(-0.4196624352005261, -0.4196624352005261, -0.4196624352005261, -0.4196624352005261, -0.4196624352005261, 2.3828093617705206, -0.4196624352005261, -0...\n",
       "\u001b[36mdata_wed_pub_rsc\u001b[39m: \u001b[32mDenseVector\u001b[39m[\u001b[32mDouble\u001b[39m] = DenseVector(2.3129063908423575, -0.43234589317514316, -0.43234589317514316, -0.43234589317514316, -0.43234589317514316, -0.43234589317514316, 2.3129063908423575...\n",
       "\u001b[36mdata_thu_pub_rsc\u001b[39m: \u001b[32mDenseVector\u001b[39m[\u001b[32mDouble\u001b[39m] = DenseVector(-0.3788190803375066, 2.639718090462356, -0.3788190803375066, -0.3788190803375066, -0.3788190803375066, -0.3788190803375066, -0.3788190803375066, 2.6...\n",
       "\u001b[36mdata_fri_pub_rsc\u001b[39m: \u001b[32mDenseVector\u001b[39m[\u001b[32mDouble\u001b[39m] = DenseVector(-0.4137292430875148, -0.4137292430875148, 2.416980660870793, 2.416980660870793, -0.4137292430875148, -0.4137292430875148, -0.4137292430875148, -0.41...\n",
       "\u001b[36mdata_sat_pub_rsc\u001b[39m: \u001b[32mDenseVector\u001b[39m[\u001b[32mDouble\u001b[39m] = DenseVector(-0.3983037670248618, -0.3983037670248618, -0.3983037670248618, -0.3983037670248618, -0.3983037670248618, -0.3983037670248618, -0.3983037670248618, -...\n",
       "\u001b[36mdata_sun_base_rsc\u001b[39m: \u001b[32mDenseVector\u001b[39m[\u001b[32mDouble\u001b[39m] = DenseVector(-0.4062114931763075, -0.4062114931763075, -0.4062114931763075, -0.4062114931763075, -0.4062114931763075, -0.4062114931763075, -0.4062114931763075, -...\n",
       "\u001b[36mdata_mon_base_rsc\u001b[39m: \u001b[32mDenseVector\u001b[39m[\u001b[32mDouble\u001b[39m] = DenseVector(-0.30360328619312116, -0.30360328619312116, -0.30360328619312116, 3.293691553599144, -0.30360328619312116, -0.30360328619312116, -0.3036032861931211...\n",
       "\u001b[36mdata_tue_base_rsc\u001b[39m: \u001b[32mDenseVector\u001b[39m[\u001b[32mDouble\u001b[39m] = DenseVector(-0.3994964110221023, -0.3994964110221023, -0.3994964110221023, -0.3994964110221023, -0.3994964110221023, -0.3994964110221023, -0.3994964110221023, -...\n",
       "\u001b[36mdata_wed_base_rsc\u001b[39m: \u001b[32mDenseVector\u001b[39m[\u001b[32mDouble\u001b[39m] = DenseVector(-0.4177691647900881, -0.4177691647900881, -0.4177691647900881, -0.4177691647900881, 2.3936079147480127, -0.4177691647900881, -0.4177691647900881, -0...\n",
       "\u001b[36mdata_thu_base_rsc\u001b[39m: \u001b[32mDenseVector\u001b[39m[\u001b[32mDouble\u001b[39m] = DenseVector(-0.421471936127821, -0.421471936127821, -0.421471936127821, -0.421471936127821, -0.421471936127821, -0.421471936127821, -0.421471936127821, -0.42147...\n",
       "\u001b[36mdata_fri_base_rsc\u001b[39m: \u001b[32mDenseVector\u001b[39m[\u001b[32mDouble\u001b[39m] = DenseVector(-0.4099573638601913, 2.4392184835109836, -0.4099573638601913, -0.4099573638601913, -0.4099573638601913, 2.4392184835109836, -0.4099573638601913, -0....\n",
       "\u001b[36mdata_sat_base_rsc\u001b[39m: \u001b[32mDenseVector\u001b[39m[\u001b[32mDouble\u001b[39m] = DenseVector(2.429353920944407, -0.4116220245877073, 2.429353920944407, -0.4116220245877073, -0.4116220245877073, -0.4116220245877073, 2.429353920944407, 2.42935...\n",
       "\u001b[36mdata_output_rsc\u001b[39m: \u001b[32mDenseVector\u001b[39m[\u001b[32mDouble\u001b[39m] = DenseVector(-0.20631025024125244, -0.20631025024125244, -0.20631025024125244, -0.20631025024125244, -0.20631025024125244, -0.20631025024125244, -0.2063102502412..."
      ]
     },
     "execution_count": 8,
     "metadata": {},
     "output_type": "execute_result"
    }
   ],
   "source": [
    "val data_likes_rsc = rescaled(data_likes)\n",
    "val data_Checkins_rsc = rescaled(data_Checkins)\n",
    "val data_Returns_rsc = rescaled(data_Returns)\n",
    "val data_Category_rsc = rescaled(data_Category)\n",
    "val data_commBase_rsc = rescaled(data_commBase)\n",
    "val data_comm24_rsc = rescaled(data_comm24)\n",
    "val data_comm48_rsc = rescaled(data_comm48)\n",
    "val data_comm24_1_rsc = rescaled(data_comm24_1)\n",
    "val data_diff2448_rsc = rescaled(data_diff2448)\n",
    "val data_baseTime_rsc = rescaled(data_baseTime)\n",
    "val data_length_rsc = rescaled(data_length)\n",
    "val data_shares_rsc = rescaled(data_shares)\n",
    "val data_hrs_rsc = rescaled(data_hrs)\n",
    "val data_sun_pub_rsc = rescaled(data_sun_pub)\n",
    "val data_mon_pub_rsc = rescaled(data_mon_pub)\n",
    "val data_tue_pub_rsc = rescaled(data_tue_pub)\n",
    "val data_wed_pub_rsc = rescaled(data_wed_pub)\n",
    "val data_thu_pub_rsc = rescaled(data_thu_pub)\n",
    "val data_fri_pub_rsc = rescaled(data_fri_pub)\n",
    "val data_sat_pub_rsc = rescaled(data_sat_pub)\n",
    "val data_sun_base_rsc = rescaled(data_sun_base)\n",
    "val data_mon_base_rsc = rescaled(data_mon_base)\n",
    "val data_tue_base_rsc = rescaled(data_tue_base)\n",
    "val data_wed_base_rsc = rescaled(data_wed_base)\n",
    "val data_thu_base_rsc = rescaled(data_thu_base)\n",
    "val data_fri_base_rsc = rescaled(data_fri_base)\n",
    "val data_sat_base_rsc = rescaled(data_sat_base)\n",
    "val data_output_rsc = rescaled(data_output)"
   ]
  },
  {
   "cell_type": "code",
   "execution_count": 9,
   "metadata": {},
   "outputs": [
    {
     "data": {
      "text/plain": [
       "\u001b[36mfeatureMatrix_rsc\u001b[39m: \u001b[32mDenseMatrix\u001b[39m[\u001b[32mDouble\u001b[39m] = 1.0  -0.1000358947341339  -0.22707190669327695  ... (28 total)\n",
       "1.0  -0.1000358947341339  -0.22707190669327695  ...\n",
       "..."
      ]
     },
     "execution_count": 9,
     "metadata": {},
     "output_type": "execute_result"
    }
   ],
   "source": [
    "val featureMatrix_rsc = DenseMatrix.horzcat(\n",
    " DenseMatrix.ones[Double](data_likes_rsc.toDenseMatrix.t.rows, 1),\n",
    " data_likes_rsc.toDenseMatrix.t,\n",
    " data_Checkins_rsc.toDenseMatrix.t,\n",
    " data_Returns_rsc.toDenseMatrix.t,\n",
    " data_Category_rsc.toDenseMatrix.t,\n",
    " data_commBase_rsc.toDenseMatrix.t,\n",
    " data_comm24_rsc.toDenseMatrix.t,\n",
    " data_comm48_rsc.toDenseMatrix.t,\n",
    " data_comm24_1_rsc.toDenseMatrix.t,\n",
    " data_diff2448_rsc.toDenseMatrix.t,\n",
    " data_baseTime_rsc.toDenseMatrix.t,\n",
    " data_length_rsc.toDenseMatrix.t,\n",
    " data_shares_rsc.toDenseMatrix.t,\n",
    " data_hrs_rsc.toDenseMatrix.t,\n",
    " data_sun_pub_rsc.toDenseMatrix.t,\n",
    " data_mon_pub_rsc.toDenseMatrix.t,\n",
    " data_tue_pub_rsc.toDenseMatrix.t,\n",
    " data_wed_pub_rsc.toDenseMatrix.t,\n",
    " data_thu_pub_rsc.toDenseMatrix.t,\n",
    " data_fri_pub_rsc.toDenseMatrix.t,\n",
    " data_sat_pub_rsc.toDenseMatrix.t,\n",
    " data_sun_base_rsc.toDenseMatrix.t,\n",
    " data_mon_base_rsc.toDenseMatrix.t,\n",
    " data_tue_base_rsc.toDenseMatrix.t,\n",
    " data_wed_base_rsc.toDenseMatrix.t,\n",
    " data_thu_base_rsc.toDenseMatrix.t,\n",
    " data_fri_base_rsc.toDenseMatrix.t,\n",
    " data_sat_base_rsc.toDenseMatrix.t\n",
    " )"
   ]
  },
  {
   "cell_type": "markdown",
   "metadata": {},
   "source": [
    "Часть 3. Моделирование"
   ]
  },
  {
   "cell_type": "markdown",
   "metadata": {},
   "source": [
    "Разделение данных на тренировочную и тестовую выборки"
   ]
  },
  {
   "cell_type": "code",
   "execution_count": 20,
   "metadata": {},
   "outputs": [
    {
     "data": {
      "text/plain": [
       "\u001b[36mres19_0\u001b[39m: \u001b[32mInt\u001b[39m = \u001b[32m40949\u001b[39m\n",
       "\u001b[36mres19_1\u001b[39m: \u001b[32mDouble\u001b[39m = \u001b[32m28664.3\u001b[39m"
      ]
     },
     "execution_count": 20,
     "metadata": {},
     "output_type": "execute_result"
    }
   ],
   "source": [
    "featureMatrix_rsc.rows\n",
    "featureMatrix_rsc.rows*0.7"
   ]
  },
  {
   "cell_type": "code",
   "execution_count": 25,
   "metadata": {},
   "outputs": [
    {
     "data": {
      "text/plain": [
       "\u001b[36mfeatureMatrix_rsc_train\u001b[39m: \u001b[32mDenseMatrix\u001b[39m[\u001b[32mDouble\u001b[39m] = 1.0  -0.1000358947341339  -0.22707190669327695  ... (28 total)\n",
       "1.0  -0.1000358947341339  -0.22707190669327695  ...\n",
       "...\n",
       "\u001b[36mfeatureMatrix_rsc_test\u001b[39m: \u001b[32mDenseMatrix\u001b[39m[\u001b[32mDouble\u001b[39m] = 1.0  -0.14690070969010155  -0.22707190669327695  ... (28 total)\n",
       "1.0  -0.14690070969010155  -0.22707190669327695  ...\n",
       "..."
      ]
     },
     "execution_count": 25,
     "metadata": {},
     "output_type": "execute_result"
    }
   ],
   "source": [
    "val featureMatrix_rsc_train = featureMatrix_rsc(1 to 28664, ::)\n",
    "val featureMatrix_rsc_test = featureMatrix_rsc(28665 to 40948, ::)"
   ]
  },
  {
   "cell_type": "code",
   "execution_count": 27,
   "metadata": {},
   "outputs": [
    {
     "data": {
      "text/plain": [
       "\u001b[36mdata_output_rsc_train\u001b[39m: \u001b[32mDenseVector\u001b[39m[\u001b[32mDouble\u001b[39m] = DenseVector(-0.20631025024125244, -0.20631025024125244, -0.20631025024125244, -0.20631025024125244, -0.20631025024125244, -0.20631025024125244, -0.2063102502412...\n",
       "\u001b[36mdata_output_rsc_test\u001b[39m: \u001b[32mDenseVector\u001b[39m[\u001b[32mDouble\u001b[39m] = DenseVector(-0.20631025024125244, -0.20631025024125244, -0.20631025024125244, -0.17813691078139873, -0.20631025024125244, -0.20631025024125244, -0.2063102502412..."
      ]
     },
     "execution_count": 27,
     "metadata": {},
     "output_type": "execute_result"
    }
   ],
   "source": [
    "val data_output_rsc_train = data_output_rsc(1 to 28664)\n",
    "val data_output_rsc_test = data_output_rsc(28665 to 40948)"
   ]
  },
  {
   "cell_type": "code",
   "execution_count": 28,
   "metadata": {},
   "outputs": [
    {
     "data": {
      "text/plain": [
       "\u001b[36mresult\u001b[39m: \u001b[32mregression\u001b[39m.\u001b[32mLeastSquaresRegressionResult\u001b[39m = \u001b[33mLeastSquaresRegressionResult\u001b[39m(\n",
       "  DenseVector(0.011394936881773853, -0.08047835882693076, -0.025954046282730844,..."
      ]
     },
     "execution_count": 28,
     "metadata": {},
     "output_type": "execute_result"
    }
   ],
   "source": [
    "val result = leastSquares(featureMatrix_rsc_train, data_output_rsc_train)"
   ]
  },
  {
   "cell_type": "code",
   "execution_count": 36,
   "metadata": {},
   "outputs": [
    {
     "data": {
      "text/plain": [
       "\u001b[36mres35\u001b[39m: \u001b[32mDenseVector\u001b[39m[\u001b[32mDouble\u001b[39m] = DenseVector(0.011394936881773853, -0.08047835882693076, -0.025954046282730844, 0.11138341549753533, -0.013134008462299635, 0.5536232967401163, 1.22249428701727,..."
      ]
     },
     "execution_count": 36,
     "metadata": {},
     "output_type": "execute_result"
    }
   ],
   "source": [
    "result.coefficients"
   ]
  },
  {
   "cell_type": "code",
   "execution_count": 30,
   "metadata": {},
   "outputs": [
    {
     "data": {
      "text/plain": [
       "\u001b[36mres29\u001b[39m: \u001b[32mDouble\u001b[39m = \u001b[32m20132.09669142794\u001b[39m"
      ]
     },
     "execution_count": 30,
     "metadata": {},
     "output_type": "execute_result"
    }
   ],
   "source": [
    "result.rSquared"
   ]
  },
  {
   "cell_type": "code",
   "execution_count": 34,
   "metadata": {},
   "outputs": [
    {
     "data": {
      "text/plain": [
       "defined \u001b[32mfunction\u001b[39m \u001b[36mrmse\u001b[39m"
      ]
     },
     "execution_count": 34,
     "metadata": {},
     "output_type": "execute_result"
    }
   ],
   "source": [
    "def rmse(v_res:DenseVector[Double], v_otp:DenseVector[Double]) = sqrt(sum((v_res - v_otp) *:* (v_res - v_otp)))"
   ]
  },
  {
   "cell_type": "code",
   "execution_count": 43,
   "metadata": {},
   "outputs": [
    {
     "data": {
      "text/plain": [
       "\u001b[36mres42_0\u001b[39m: \u001b[32mInt\u001b[39m = \u001b[32m28\u001b[39m\n",
       "\u001b[36mres42_1\u001b[39m: \u001b[32mInt\u001b[39m = \u001b[32m1\u001b[39m"
      ]
     },
     "execution_count": 43,
     "metadata": {},
     "output_type": "execute_result"
    }
   ],
   "source": [
    "result.coefficients.toDenseMatrix.t.rows\n",
    "result.coefficients.toDenseMatrix.t.cols"
   ]
  },
  {
   "cell_type": "code",
   "execution_count": 44,
   "metadata": {},
   "outputs": [
    {
     "data": {
      "text/plain": [
       "\u001b[36mres43_0\u001b[39m: \u001b[32mInt\u001b[39m = \u001b[32m12284\u001b[39m\n",
       "\u001b[36mres43_1\u001b[39m: \u001b[32mInt\u001b[39m = \u001b[32m28\u001b[39m"
      ]
     },
     "execution_count": 44,
     "metadata": {},
     "output_type": "execute_result"
    }
   ],
   "source": [
    "featureMatrix_rsc_test.rows\n",
    "featureMatrix_rsc_test.cols"
   ]
  },
  {
   "cell_type": "code",
   "execution_count": 52,
   "metadata": {},
   "outputs": [
    {
     "ename": "",
     "evalue": "",
     "output_type": "error",
     "traceback": [
      "\u001b[31mjava.lang.IndexOutOfBoundsException: Index 1175236 out of bounds for length 1146572\u001b[39m\n  dev.ludovic.netlib.blas.AbstractBLAS.checkIndex(\u001b[32mAbstractBLAS.java\u001b[39m:\u001b[32m53\u001b[39m)\n  dev.ludovic.netlib.blas.AbstractBLAS.dgemm(\u001b[32mAbstractBLAS.java\u001b[39m:\u001b[32m296\u001b[39m)\n  dev.ludovic.netlib.blas.Java8BLAS.dgemm(\u001b[32mJava8BLAS.java\u001b[39m:\u001b[32m30\u001b[39m)\n  breeze.linalg.operators.DenseMatrixMultiplyOps$impl_OpMulMatrix_DMD_DMD_eq_DMD$.apply(\u001b[32mDenseMatrixOps.expanded.scala\u001b[39m:\u001b[32m192\u001b[39m)\n  breeze.linalg.operators.DenseMatrixMultiplyOps$impl_OpMulMatrix_DMD_DMD_eq_DMD$.apply(\u001b[32mDenseMatrixOps.expanded.scala\u001b[39m:\u001b[32m185\u001b[39m)\n  breeze.linalg.ImmutableNumericOps.$times(\u001b[32mNumericOps.scala\u001b[39m:\u001b[32m119\u001b[39m)\n  breeze.linalg.ImmutableNumericOps.$times$(\u001b[32mNumericOps.scala\u001b[39m:\u001b[32m118\u001b[39m)\n  breeze.linalg.DenseMatrix.$times(\u001b[32mDenseMatrix.scala\u001b[39m:\u001b[32m52\u001b[39m)\n  ammonite.$sess.cmd51$Helper.<init>(\u001b[32mcmd51.sc\u001b[39m:\u001b[32m1\u001b[39m)\n  ammonite.$sess.cmd51$.<clinit>(\u001b[32mcmd51.sc\u001b[39m:\u001b[32m7\u001b[39m)"
     ]
    }
   ],
   "source": [
    "(featureMatrix_rsc_test) * (result.coefficients.toDenseMatrix.t)"
   ]
  },
  {
   "cell_type": "code",
   "execution_count": null,
   "metadata": {},
   "outputs": [],
   "source": [
    "rmse(data_output_rsc_test, (featureMatrix_rsc_test) * (result.coefficients.toDenseMatrix.t))"
   ]
  },
  {
   "cell_type": "markdown",
   "metadata": {},
   "source": [
    "Из-за ошибки не рассчитана метрика качества.\n",
    "\n",
    "? Как поправить ошибку ?"
   ]
  },
  {
   "cell_type": "markdown",
   "metadata": {},
   "source": [
    "Часть 4. Реализация линейной регрессии руками"
   ]
  },
  {
   "cell_type": "code",
   "execution_count": 15,
   "metadata": {},
   "outputs": [
    {
     "name": "stderr",
     "output_type": "stream",
     "text": [
      "Jan 30, 2022 2:33:47 PM dev.ludovic.netlib.InstanceBuilder$NativeBLAS getInstanceImpl\n",
      "WARNING: Failed to load implementation from:dev.ludovic.netlib.blas.JNIBLAS\n",
      "Jan 30, 2022 2:33:47 PM dev.ludovic.netlib.InstanceBuilder$NativeBLAS getInstanceImpl\n",
      "WARNING: Failed to load implementation from:dev.ludovic.netlib.blas.ForeignLinkerBLAS\n",
      "Jan 30, 2022 2:33:47 PM dev.ludovic.netlib.InstanceBuilder$BLAS getInstanceImpl\n",
      "WARNING: Failed to load implementation from:dev.ludovic.netlib.NativeBLAS\n"
     ]
    },
    {
     "data": {
      "text/plain": [
       "\u001b[36mresult_mnl\u001b[39m: \u001b[32mDenseVector\u001b[39m[\u001b[32mDouble\u001b[39m] = DenseVector(-3.76317161340526E-15, -0.027739071140929224, -0.014541226668590541, 0.0551072994656486, -0.018833966201070355, 0.6446249367578861, 1.77694398910611..."
      ]
     },
     "execution_count": 15,
     "metadata": {},
     "output_type": "execute_result"
    }
   ],
   "source": [
    "val result_mnl = inv((featureMatrix_rsc.t) * featureMatrix_rsc) * ((featureMatrix_rsc.t) * data_output_rsc)"
   ]
  },
  {
   "cell_type": "code",
   "execution_count": 17,
   "metadata": {},
   "outputs": [
    {
     "data": {
      "text/plain": [
       "\u001b[36mres16\u001b[39m: \u001b[32mDouble\u001b[39m = \u001b[32m-2.8330346741523033E-6\u001b[39m"
      ]
     },
     "execution_count": 17,
     "metadata": {},
     "output_type": "execute_result"
    }
   ],
   "source": [
    "sum(result.coefficients - result_mnl)"
   ]
  },
  {
   "cell_type": "markdown",
   "metadata": {},
   "source": [
    "Коэффициенты совпадают"
   ]
  },
  {
   "cell_type": "code",
   "execution_count": null,
   "metadata": {},
   "outputs": [],
   "source": []
  }
 ],
 "metadata": {
  "kernelspec": {
   "display_name": "Scala 2.13",
   "language": "scala",
   "name": "scala213"
  },
  "language_info": {
   "codemirror_mode": "text/x-scala",
   "file_extension": ".sc",
   "mimetype": "text/x-scala",
   "name": "scala",
   "nbconvert_exporter": "script",
   "version": "2.13.3"
  }
 },
 "nbformat": 4,
 "nbformat_minor": 4
}
